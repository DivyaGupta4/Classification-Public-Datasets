{
 "cells": [
  {
   "cell_type": "markdown",
   "metadata": {},
   "source": [
    "This module is using Logistic Regression from Scikit Learn for classification. Earlier, I had added Logistic Regression using Neural Networks yielding an accuracy of about 80%. Using GridSearchCV for finding the right hyperparameters, the accuracy from the model has increased to about 93%.\n",
    "Thus, setting up the right hyperparameters is important in machine learning.\n",
    "\n",
    "The process can be replicated for other models and is as follows:\n",
    "1. Importing the right libraries and classifier\n",
    "2. Loading data from UCI website (open-source)\n",
    "3. Defining functions to plot Confusion matrix\n",
    "4. Nested cross-validation is used to compare different models (here not so useful)\n",
    "5. Predicting using the best hyperparameters\n",
    "6. Plotting confusion matrix, ROC, AUC and Lift charts"
   ]
  },
  {
   "cell_type": "markdown",
   "metadata": {},
   "source": [
    "### Importing Libraries"
   ]
  },
  {
   "cell_type": "code",
   "execution_count": 1,
   "metadata": {},
   "outputs": [],
   "source": [
    "import pandas as pd\n",
    "import numpy as np\n",
    "import matplotlib.pyplot as plt\n",
    "from matplotlib.colors import ListedColormap\n",
    "from sklearn.model_selection import train_test_split, KFold, cross_val_score, GridSearchCV\n",
    "from sklearn.linear_model import LogisticRegression\n",
    "from sklearn.metrics import confusion_matrix, classification_report, accuracy_score, roc_curve, roc_auc_score, auc\n",
    "import scikitplot as skplt\n",
    "from sklearn.pipeline import Pipeline\n",
    "import itertools"
   ]
  },
  {
   "cell_type": "markdown",
   "metadata": {},
   "source": [
    "### Data Loading"
   ]
  },
  {
   "cell_type": "code",
   "execution_count": 2,
   "metadata": {},
   "outputs": [],
   "source": [
    "spam = pd.read_csv('http://archive.ics.uci.edu/ml/machine-learning-databases/spambase/spambase.data', header = None)\n",
    "X = spam.loc[:,0:56]\n",
    "y = spam.loc[:,57]\n",
    "X_train, X_test, y_train, y_test = train_test_split(X, y, test_size=.2, stratify = y, random_state = 123)"
   ]
  },
  {
   "cell_type": "markdown",
   "metadata": {},
   "source": [
    "### Defining required functions "
   ]
  },
  {
   "cell_type": "code",
   "execution_count": 3,
   "metadata": {},
   "outputs": [],
   "source": [
    "#http://scikit-learn.org/stable/auto_examples/model_selection/plot_confusion_matrix.html\n",
    "#Plot Confusion Matrix\n",
    "def plot_confusion_matrix(cm, classes,\n",
    "                          normalize=False,\n",
    "                          title='Confusion matrix',\n",
    "                          cmap=plt.cm.Blues):\n",
    "    \"\"\"\n",
    "    This function prints and plots the confusion matrix.\n",
    "    Normalization can be applied by setting `normalize=True`.\n",
    "    \"\"\"\n",
    "    if normalize:\n",
    "        cm = cm.astype('float') / cm.sum(axis=1)[:, np.newaxis]\n",
    "        print(\"Normalized confusion matrix\")\n",
    "    else:\n",
    "        print('Confusion matrix, without normalization')\n",
    "\n",
    "    #print(cm)\n",
    "\n",
    "    plt.imshow(cm, interpolation='nearest', cmap=cmap)\n",
    "    plt.title(title)\n",
    "    plt.colorbar()\n",
    "    tick_marks = np.arange(len(classes))\n",
    "    plt.xticks(tick_marks, classes, rotation=45)\n",
    "    plt.yticks(tick_marks, classes)\n",
    "\n",
    "    fmt = '.2f' if normalize else 'd'\n",
    "    thresh = cm.max() / 2.\n",
    "    for i, j in itertools.product(range(cm.shape[0]), range(cm.shape[1])):\n",
    "        plt.text(j, i, format(cm[i, j], fmt),\n",
    "                 horizontalalignment=\"center\",\n",
    "                 color=\"white\" if cm[i, j] > thresh else \"black\")\n",
    "\n",
    "    plt.tight_layout()\n",
    "    plt.ylabel('True label')\n",
    "    plt.xlabel('Predicted label')"
   ]
  },
  {
   "cell_type": "code",
   "execution_count": 4,
   "metadata": {},
   "outputs": [],
   "source": [
    "def nested_cross_validation(model_name, parameters, X_train, y_train, scaler = None):\n",
    "    NUM_TRIALS = 10\n",
    "    non_nested_scores = np.zeros(NUM_TRIALS)\n",
    "    nested_scores = np.zeros(NUM_TRIALS)\n",
    "\n",
    "    for i in range(NUM_TRIALS):\n",
    "        pipeline = Pipeline([('transformer', scaler), ('estimator', model_name)])\n",
    "\n",
    "        inner_cv = KFold(n_splits=3, shuffle=True, random_state=i)\n",
    "        outer_cv = KFold(n_splits=3, shuffle=True, random_state=i)\n",
    "\n",
    "        #clf = GridSearchCV(estimator = model_name, param_grid = parameters, cv=inner_cv)\n",
    "        clf = GridSearchCV(pipeline, param_grid = parameters, cv=inner_cv)\n",
    "        clf.fit(X_train, y_train)\n",
    "        \n",
    "        pipeline2 = Pipeline([('transformer', scaler), ('estimator', clf)])\n",
    "\n",
    "        # Nested CV with parameter optimization\n",
    "        nested_score = cross_val_score(pipeline2, X=X_train, y=y_train, cv=outer_cv)\n",
    "        nested_scores[i] = nested_score.mean()\n",
    "\n",
    "    print(\"The final accuracy from nested cross validation is {0:.2%} / {1:.2%}\".format(nested_scores.mean(), \\\n",
    "                                                                                        nested_scores.std()))\n",
    "    #print(\"The final accuracy without nested cross validation is {0:.2%}\".format(non_nested_scores.mean()))\n",
    "\n",
    "\n",
    "    accuracy_all_models.append(nested_scores.mean())\n",
    "    std_all_models.append(nested_scores.std())"
   ]
  },
  {
   "cell_type": "code",
   "execution_count": 5,
   "metadata": {},
   "outputs": [],
   "source": [
    "def feature_selection_func(estimator, params, X_train, y_train, scaler = None):\n",
    "    sfs1 = sfs(estimator, k_features='best', forward=True, floating=False, cv=10, scoring = 'accuracy')\n",
    "\n",
    "    sfs2 = sfs1.fit(X_train, y_train)\n",
    "    fig = plot_sfs(sfs2.get_metric_dict(), kind='std_err')\n",
    "    plt.title('Sequential Forward Selection (w. StdErr)')\n",
    "    plt.grid()\n",
    "    plt.show()\n",
    "    print('Selected features:', sfs2.k_feature_idx_)\n",
    "    X_train_sfs = sfs2.transform(X_train)\n",
    "    X_test_sfs = sfs2.transform(X_test)\n",
    "    nested_cross_validation(estimator, params, X_train_sfs, y_train, scaler)"
   ]
  },
  {
   "cell_type": "code",
   "execution_count": 6,
   "metadata": {},
   "outputs": [],
   "source": [
    "accuracy_all_models = []\n",
    "cross_val_score_all_models = []\n",
    "precision_all = []\n",
    "recall_all = []\n",
    "f_measure_all = []\n",
    "std_all_models = [] "
   ]
  },
  {
   "cell_type": "markdown",
   "metadata": {},
   "source": [
    "### Logistic Regression (using Scikit-Learn) "
   ]
  },
  {
   "cell_type": "code",
   "execution_count": 7,
   "metadata": {},
   "outputs": [
    {
     "name": "stdout",
     "output_type": "stream",
     "text": [
      "The final accuracy from nested cross validation is 92.32% / 0.21%\n"
     ]
    }
   ],
   "source": [
    "clf = LogisticRegression()\n",
    "param = {\"estimator__C\": [0.1, 1, 10, 100], \"estimator__penalty\" : ['l1','l2']}\n",
    "nested_cross_validation(clf, param, X_train, y_train)"
   ]
  },
  {
   "cell_type": "code",
   "execution_count": 8,
   "metadata": {},
   "outputs": [
    {
     "name": "stdout",
     "output_type": "stream",
     "text": [
      "Prediction Accuracy: 92.73%\n",
      "\n",
      "             precision    recall  f1-score   support\n",
      "\n",
      "          0       0.93      0.96      0.94       558\n",
      "          1       0.93      0.88      0.91       363\n",
      "\n",
      "avg / total       0.93      0.93      0.93       921\n",
      "\n"
     ]
    }
   ],
   "source": [
    "param = {\"C\": [0.1, 1, 10, 100], \"penalty\" : ['l1','l2']}\n",
    "\n",
    "lr = GridSearchCV(LogisticRegression(), param, cv = 10, scoring = 'accuracy')\n",
    "lr.fit(X_train,y_train)\n",
    "model = lr.best_estimator_\n",
    "model.fit(X_train, y_train)\n",
    "y_pred = model.predict(X_test)\n",
    "print(\"Prediction Accuracy: {0:.2%}\\n\".format(accuracy_score(y_test, y_pred)))\n",
    "print(classification_report(y_test, y_pred))"
   ]
  },
  {
   "cell_type": "code",
   "execution_count": 9,
   "metadata": {},
   "outputs": [
    {
     "name": "stdout",
     "output_type": "stream",
     "text": [
      "Normalized confusion matrix\n"
     ]
    },
    {
     "data": {
      "image/png": "[encoded data removed]",
      "text/plain": [
       "<matplotlib.figure.Figure at 0x1bf36a909e8>"
      ]
     },
     "metadata": {
      "needs_background": "light"
     },
     "output_type": "display_data"
    }
   ],
   "source": [
    "conf = confusion_matrix(y_test, y_pred)\n",
    "plt.figure(figsize = (10,5))\n",
    "plt.subplot(121)\n",
    "clas= np.array(y.unique())\n",
    "\n",
    "plot_confusion_matrix(conf, classes= clas, normalize=True, title='Confusion matrix using Logistic Regression')\n",
    "\n",
    "## Predict scores\n",
    "y_score = model.predict_proba(X_test)[:,1]\n",
    "fpr, tpr, _ = roc_curve(y_test, y_score)\n",
    "roc_auc = auc(fpr, tpr)\n",
    "\n",
    "#Plot ROC \n",
    "# ROC\n",
    "fpr, tpr, _ = roc_curve(y_test, y_score)\n",
    "roc_auc = auc(fpr, tpr)\n",
    "\n",
    "plt.subplots_adjust(wspace=0.2)\n",
    "plt.subplot(122)\n",
    "plt.plot(fpr, tpr, label='ROC curve (area = %0.2f)' % roc_auc)\n",
    "plt.plot([0, 1], [0, 1],linestyle='--')\n",
    "plt.axis('tight')\n",
    "plt.ylabel('True Positive Rate')\n",
    "plt.xlabel('False Positive Rate')\n",
    "plt.title('Receiver operating characteristic')\n",
    "plt.legend(loc=\"lower right\")\n",
    "plt.show()"
   ]
  },
  {
   "cell_type": "code",
   "execution_count": 10,
   "metadata": {},
   "outputs": [
    {
     "data": {
      "image/png": "[encoded data removed]",
      "text/plain": [
       "<matplotlib.figure.Figure at 0x1bf32b5a898>"
      ]
     },
     "metadata": {
      "needs_background": "light"
     },
     "output_type": "display_data"
    }
   ],
   "source": [
    "skplt.metrics.plot_lift_curve(y_test,model.predict_proba(X_test))\n",
    "plt.show()"
   ]
  }
 ],
 "metadata": {
  "kernelspec": {
   "display_name": "Python 3",
   "language": "python",
   "name": "python3"
  },
  "language_info": {
   "codemirror_mode": {
    "name": "ipython",
    "version": 3
   },
   "file_extension": ".py",
   "mimetype": "text/x-python",
   "name": "python",
   "nbconvert_exporter": "python",
   "pygments_lexer": "ipython3",
   "version": "3.6.4"
  }
 },
 "nbformat": 4,
 "nbformat_minor": 2
}
